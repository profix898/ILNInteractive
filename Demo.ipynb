{
 "cells": [
  {
   "cell_type": "markdown",
   "source": [
    "# Welcome to ILNInteractive Demo\r\n",
    "\r\n",
    "### *ILNInteractive adds math support and visualizations for ILNumerics projects.*"
   ],
   "metadata": {}
  },
  {
   "cell_type": "markdown",
   "source": [
    "#### 1. First reference the ILNInteractive package\r\n",
    "\r\n",
    "This pulls the ILNInteractive package from nuget.org, including all required depedencies (such as ILNumerics itself, ILN2XPlot, XPlot.Plotly, etc.)"
   ],
   "metadata": {}
  },
  {
   "cell_type": "code",
   "execution_count": null,
   "source": [
    "#r \"nuget:ILNInteractive\"\r\n",
    "\r\n",
    "// Optional: reference a local package for debugging\r\n",
    "//#i \"nuget:D:\\Repos\\Thilo\\Github\\ILNInteractive\"\r\n",
    "//#r \"nuget:ILNInteractive\""
   ],
   "outputs": [],
   "metadata": {
    "dotnet_interactive": {
     "language": "csharp"
    }
   }
  },
  {
   "cell_type": "markdown",
   "source": [
    "#### 2. Create ILNumerics arrays and output them to the notebook\r\n",
    "\r\n",
    "All standard numeric types in ILNumerics are supported (sbyte, short, int, long, float, double, fcomplex and complex).\r\n",
    "\r\n",
    "- To write formatted output of the array to the notebook, simple return the array (```return a```) or reference the variable (```a```).\r\n",
    "- You can use standard indexers from ILNumerics to select the elements to display (```a[\":;3\"]``` or ```a[full, r(1,3)]```).\r\n",
    "- The output is truncated after ```ILNInteractiveOptions.MaxArrayElements``` number of elements (default: 100 per dimension)."
   ],
   "metadata": {}
  },
  {
   "cell_type": "code",
   "execution_count": null,
   "source": [
    "// ILNInteractiveOptions.MaxArrayElements = 2;\r\n",
    "Array<double> a = randn(2, 3, 4);\r\n",
    "//a[full, r(1,2), 1]\r\n",
    "return a[\":;:;2\"];"
   ],
   "outputs": [],
   "metadata": {
    "dotnet_interactive": {
     "language": "csharp"
    }
   }
  },
  {
   "cell_type": "code",
   "execution_count": null,
   "source": [
    "Array<int> b = ones<int>(2, 3);\r\n",
    "b"
   ],
   "outputs": [],
   "metadata": {
    "dotnet_interactive": {
     "language": "csharp"
    }
   }
  },
  {
   "cell_type": "code",
   "execution_count": null,
   "source": [
    "Array<complex> b = ccomplex(randn(4, 5), randn(4, 5));\r\n",
    "return b;"
   ],
   "outputs": [],
   "metadata": {
    "dotnet_interactive": {
     "language": "csharp"
    }
   }
  },
  {
   "cell_type": "markdown",
   "source": [
    "#### 3. Visualize your data by utilizing ILNumerics plot types\r\n",
    "\r\n",
    "ILNInteractive support all possible plot types and arbitrary scenes. *However, at this point only LinePlot is converted to a fully interactive experience (via ILN2XPlot with XPlot plotly backend). All other scenes/plots are rendered as SVG graphics and embedded in the notebook output.*\r\n",
    "\r\n",
    "You can control the visualization output format and size by specifying\r\n",
    "- the format: ```ILNInteractiveOptions.GraphMode = ILNGraphMode.XPlot;``` or ```ILNInteractiveOptions.GraphMode = ILNGraphMode.SVG;```\r\n",
    "- the size: ```ILNInteractiveOptions.GraphSize = new System.Drawing.Point(600, 400);```"
   ],
   "metadata": {}
  },
  {
   "cell_type": "code",
   "execution_count": null,
   "source": [
    "//ILNInteractiveOptions.GraphMode = ILNGraphMode.SVG;\r\n",
    "//ILNInteractiveOptions.GraphSize = new System.Drawing.Point(600, 400);\r\n",
    "var scene = new Scene { new PlotCube { new LinePlot(tosingle(randn(1, 100))) } };\r\n",
    "return scene;"
   ],
   "outputs": [],
   "metadata": {
    "dotnet_interactive": {
     "language": "csharp"
    }
   }
  },
  {
   "cell_type": "code",
   "execution_count": null,
   "source": [
    "// Example from: https://ilnumerics.net/surface-plots.html\r\n",
    "\r\n",
    "var scene = new Scene {\r\n",
    "    new PlotCube(twoDMode: false) {\r\n",
    "      // add a surface\r\n",
    "      new Surface(SpecialData.sincf(30, 40, 2.5f)) { \r\n",
    "        // make thin transparent wireframes\r\n",
    "        Wireframe = { Color = Color.FromArgb(50, Color.LightGray) },\r\n",
    "          // choose a different colormap\r\n",
    "          Colormap = Colormaps.Jet, \r\n",
    "      }\r\n",
    "    }\r\n",
    "  };\r\n",
    "  // rotate the plot cube \r\n",
    "  scene.First<PlotCube>().Rotation = Matrix4.Rotation(new Vector3(1f,0.23f,1), 0.7f);\r\n",
    "  return scene;"
   ],
   "outputs": [],
   "metadata": {
    "dotnet_interactive": {
     "language": "csharp"
    }
   }
  }
 ],
 "metadata": {
  "kernelspec": {
   "display_name": ".NET (C#)",
   "language": "C#",
   "name": ".net-csharp"
  },
  "language_info": {
   "file_extension": ".cs",
   "mimetype": "text/x-csharp",
   "name": "C#",
   "pygments_lexer": "csharp",
   "version": "9.0"
  },
  "orig_nbformat": 2
 },
 "nbformat": 4,
 "nbformat_minor": 2
}