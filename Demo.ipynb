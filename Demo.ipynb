{
 "cells": [
  {
   "cell_type": "markdown",
   "source": [
    "# Welcome to ILNInteractive Demo\r\n",
    "\r\n",
    "### *ILNInteractive adds math support and visualizations for ILNumerics projects.*"
   ],
   "metadata": {}
  },
  {
   "cell_type": "markdown",
   "source": [
    "#### 1. First reference the ILNInteractive package\r\n",
    "\r\n",
    "This pulls the ILNInteractive package from nuget.org, including all required depedencies (such as ILNumerics itself, ILN2XPlot, XPlot.Plotly, etc.)"
   ],
   "metadata": {}
  },
  {
   "cell_type": "code",
   "execution_count": null,
   "source": [
    "#r \"nuget:ILNInteractive\"\r\n",
    "\r\n",
    "// Optional: reference a local package for debugging\r\n",
    "//#i \"nuget:D:\\Repos\\Thilo\\Github\\ILNInteractive\"\r\n",
    "//#r \"nuget:ILNInteractive\""
   ],
   "outputs": [],
   "metadata": {
    "dotnet_interactive": {
     "language": "csharp"
    }
   }
  },
  {
   "cell_type": "markdown",
   "source": [
    "#### 2. Create ILNumerics arrays and output them to the notebook\r\n",
    "\r\n",
    "All standard numeric types in ILNumerics are supported (sbyte, short, int, long, float, double, fcomplex and complex).\r\n",
    "\r\n",
    "- To write formatted output of the array to the notebook, simple return the array (```return a```) or reference the variable (```a```).\r\n",
    "- You can use standard indexers from ILNumerics to select the elements to display (```a[\":;3\"]``` or ```a[full, r(1,3)]```).\r\n",
    "- The output is truncated after ```ILNInteractiveOptions.MaxArrayElements``` number of elements (default: 50 per dimension)."
   ],
   "metadata": {}
  },
  {
   "cell_type": "code",
   "execution_count": null,
   "source": [
    "// ILNInteractiveOptions.MaxArrayElements = 2;\r\n",
    "Array<double> a = randn(2, 3, 4);\r\n",
    "//a[full, r(1,2), 1]\r\n",
    "return a[\":;:;2\"];"
   ],
   "outputs": [],
   "metadata": {
    "dotnet_interactive": {
     "language": "csharp"
    }
   }
  },
  {
   "cell_type": "code",
   "execution_count": null,
   "source": [
    "Array<int> b = ones<int>(2, 3);\r\n",
    "b"
   ],
   "outputs": [],
   "metadata": {
    "dotnet_interactive": {
     "language": "csharp"
    }
   }
  },
  {
   "cell_type": "code",
   "execution_count": null,
   "source": [
    "Array<complex> b = ccomplex(randn(4, 5), randn(4, 5));\r\n",
    "return b;"
   ],
   "outputs": [],
   "metadata": {
    "dotnet_interactive": {
     "language": "csharp"
    }
   }
  },
  {
   "cell_type": "markdown",
   "source": [
    "#### 3. Visualize your data by utilizing ILNumerics plot types\r\n",
    "\r\n",
    "ILNInteractive support all possible plot types and arbitrary scenes. *However, at this point only LinePlot is converted to a fully interactive experience (via ILN2XPlot with XPlot plotly backend). All other scenes/plots are rendered as SVG graphics and embedded in the notebook output.*\r\n",
    "\r\n",
    "You can control the visualization output format and size by specifying\r\n",
    "- the format: ```ILNInteractiveOptions.GraphMode = ILNGraphMode.XPlotPlotly;``` or ```ILNGraphMode.Svg;``` or ```ILNGraphMode.Png;```\r\n",
    "- the size: ```ILNInteractiveOptions.GraphSize = new System.Drawing.Point(600, 400);```\r\n",
    "\r\n",
    "Also, for complex scene there is a configurable limit for the size of the rendered SVG. Above the threshold value, a bitmap (PNG) is used instead as fallback for faster rendering.\r\n",
    "The threshold value can be configured via ```ILNInteractiveOptions.GraphSvgSizeLimit = 4 * 1000 * 1000;``` (default: 4M Bytes)."
   ],
   "metadata": {}
  },
  {
   "cell_type": "code",
   "execution_count": null,
   "source": [
    "//ILNInteractiveOptions.GraphMode = ILNGraphMode.Svg;\r\n",
    "//ILNInteractiveOptions.GraphSize = new System.Drawing.Point(600, 400);\r\n",
    "var scene = new Scene { new PlotCube { new LinePlot(tosingle(randn(1, 100))) } };\r\n",
    "return scene;"
   ],
   "outputs": [],
   "metadata": {
    "dotnet_interactive": {
     "language": "csharp"
    }
   }
  },
  {
   "cell_type": "code",
   "execution_count": null,
   "source": [
    "// Example from: https://ilnumerics.net/surface-plots.html\r\n",
    "//ILNInteractiveOptions.GraphSvgSizeLimit = 4 * 1000 * 1000;\r\n",
    "//ILNInteractiveOptions.GraphSurfRotation = Matrix4.Rotation(new Vector3(1f, 0.23f, 1), 0.7f);\r\n",
    "var scene = new Scene {\r\n",
    "    new PlotCube(twoDMode: false) {\r\n",
    "      // Add a surface\r\n",
    "      new Surface(SpecialData.sincf(30, 60, 2.5f)) { \r\n",
    "        // Make thin transparent wireframes\r\n",
    "        Wireframe = { Color = Color.FromArgb(50, Color.LightGray) },\r\n",
    "          // Choose a different colormap\r\n",
    "          Colormap = Colormaps.Jet, \r\n",
    "      }\r\n",
    "    }\r\n",
    "  };\r\n",
    "  // Rotate the plot cube \r\n",
    "  scene.First<PlotCube>().Rotation = Matrix4.Rotation(new Vector3(1f, 0.23f, 1), 0.7f);\r\n",
    "  return scene;"
   ],
   "outputs": [],
   "metadata": {
    "dotnet_interactive": {
     "language": "csharp"
    }
   }
  },
  {
   "cell_type": "markdown",
   "source": [
    "#### 4. Use _QuickPlot_ helpers in ILNInteractive\r\n",
    "\r\n",
    "ILNInteractive adds QuickPlot utilities, which help you creating simple plots easily. Supports float and double arrays.\r\n",
    "\r\n",
    "*LinePlot*\r\n",
    "- ```Plot(x, y)```\r\n",
    "- ```Plot(x, y, y2, ...)``` (individual x, y, etc. vectors)\r\n",
    "- ```Plot(xyPositions)``` (1, 2 or 3D positions as column vectors)\r\n",
    "\r\n",
    "*Surface*\r\n",
    "- ```Surf(xyzPositions)``` (matrix of size [m x n x [1|2|3]])\r\n",
    "- ```Surf(z, x, y)``` (each a vector of length n or a matrix of size [m by n])\r\n",
    "- ```Surf(zFunc, xmin, xmax, xlen, ymin, ymax, ylen)``` (zFunc is function from (x,y) => z, i.e. Func<double, double, double>)\r\n",
    "\r\n",
    "For Surf() the orientation of the 3D plot cube can be configured via ```ILNInteractiveOptions.GraphSurfRotation```."
   ],
   "metadata": {}
  },
  {
   "cell_type": "code",
   "execution_count": null,
   "source": [
    "Array<double> x = arange(0.0, 99.0);\r\n",
    "Array<double> y =  randn(100, 1);\r\n",
    "Array<double> y2 =  randn(100, 1) + 2;\r\n",
    "Plot(x, y, y2)\r\n",
    "//Plot(arange(0.0, 99.0), randn(100, 1), randn(100, 1) + 2, randn(100, 1) + 4)"
   ],
   "outputs": [],
   "metadata": {
    "dotnet_interactive": {
     "language": "csharp"
    }
   }
  },
  {
   "cell_type": "code",
   "execution_count": null,
   "source": [
    "var xyz = SpecialData.sincf(30, 40, 2.5f);\r\n",
    "Surf(xyz)"
   ],
   "outputs": [],
   "metadata": {
    "dotnet_interactive": {
     "language": "csharp"
    }
   }
  },
  {
   "cell_type": "code",
   "execution_count": null,
   "source": [
    "// Example from: https://ilnumerics.net/surface-plots.html\r\n",
    "Surf((x, y) => (float)(Math.Sin(x) * Math.Cos(y) * Math.Exp(-(x * x + y * y) / 46)))"
   ],
   "outputs": [],
   "metadata": {
    "dotnet_interactive": {
     "language": "csharp"
    }
   }
  }
 ],
 "metadata": {
  "kernelspec": {
   "display_name": ".NET (C#)",
   "language": "C#",
   "name": ".net-csharp"
  },
  "language_info": {
   "file_extension": ".cs",
   "mimetype": "text/x-csharp",
   "name": "C#",
   "pygments_lexer": "csharp",
   "version": "9.0"
  },
  "orig_nbformat": 2
 },
 "nbformat": 4,
 "nbformat_minor": 2
}