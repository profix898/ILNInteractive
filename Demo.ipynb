{
 "cells": [
  {
   "cell_type": "markdown",
   "source": [
    "# Welcome to ILNInteractive Demo\r\n",
    "\r\n",
    "*ILNInteractive adds math support and visualizations for ILNumerics projects.*"
   ],
   "metadata": {}
  },
  {
   "cell_type": "markdown",
   "source": [
    "Note: Run ``dotnet nuget locals all --clear`` to wipe NuGet cache."
   ],
   "metadata": {}
  },
  {
   "cell_type": "code",
   "execution_count": null,
   "source": [
    "// Optional: for referencing local packages for debugging\r\n",
    "#i \"nuget:D:\\Repos\\Thilo\\Github\\ILNInteractive\"\r\n",
    "#r \"nuget:ILNInteractive\""
   ],
   "outputs": [],
   "metadata": {
    "dotnet_interactive": {
     "language": "csharp"
    }
   }
  },
  {
   "cell_type": "code",
   "execution_count": null,
   "source": [
    "var a = randn(2, 3, 4);\r\n",
    "return a[\":;:;2\"];"
   ],
   "outputs": [],
   "metadata": {
    "dotnet_interactive": {
     "language": "csharp"
    }
   }
  },
  {
   "cell_type": "code",
   "execution_count": null,
   "source": [
    "var b = ones<int>(2, 3);\r\n",
    "return b;"
   ],
   "outputs": [],
   "metadata": {
    "dotnet_interactive": {
     "language": "csharp"
    }
   }
  },
  {
   "cell_type": "code",
   "execution_count": null,
   "source": [
    "var b = ccomplex(randn(4, 5), randn(4, 5));\r\n",
    "return b;"
   ],
   "outputs": [],
   "metadata": {
    "dotnet_interactive": {
     "language": "csharp"
    }
   }
  },
  {
   "cell_type": "code",
   "execution_count": null,
   "source": [
    "//ILNInteractiveOptions.GraphMode = ILNGraphMode.XPlot;\r\n",
    "//ILNInteractiveOptions.GraphSize = new System.Drawing.Point(600, 400);\r\n",
    "var scene = new Scene { new PlotCube { new LinePlot(tosingle(randn(1, 100))) } };\r\n",
    "return scene;"
   ],
   "outputs": [],
   "metadata": {
    "dotnet_interactive": {
     "language": "csharp"
    }
   }
  }
 ],
 "metadata": {
  "kernelspec": {
   "display_name": ".NET (C#)",
   "language": "C#",
   "name": ".net-csharp"
  },
  "language_info": {
   "file_extension": ".cs",
   "mimetype": "text/x-csharp",
   "name": "C#",
   "pygments_lexer": "csharp",
   "version": "9.0"
  },
  "orig_nbformat": 2
 },
 "nbformat": 4,
 "nbformat_minor": 2
}